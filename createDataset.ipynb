{
 "cells": [
  {
   "cell_type": "code",
   "execution_count": 5,
   "metadata": {},
   "outputs": [],
   "source": [
    "\n",
    "  \n",
    "import csv \n",
    "    \n",
    "# field names \n",
    "fields = ['id','date','time'] \n",
    "    \n",
    "\n",
    "    \n",
    "\n",
    "id=0\n",
    "\n",
    "import datetime\n",
    "from datetime import timedelta\n",
    "import random\n",
    "\n",
    "def generate_random_date():\n",
    "    start_date = datetime.date(2023, 10, 5)\n",
    "    end_date   = datetime.date(2023, 10, 6)\n",
    "    num_days   = (end_date - start_date).days\n",
    "    rand_days   = random.randint(1, num_days)\n",
    "    random_date = start_date + datetime.timedelta(days=rand_days)\n",
    "    return random_date\n",
    "\n",
    "\n",
    "def generate_time():\n",
    "    hour=random.randint(0,23)\n",
    "    minute=random.randint(0,60)\n",
    "    \n",
    "    if(hour<0 or minute<0):\n",
    "       generate_time()\n",
    "\n",
    "    return str(hour)+\":\"+str(minute)\n",
    "\n",
    "# open the file in the write mode\n",
    "f = open('day.csv', 'w')\n",
    "\n",
    "# create the csv writer\n",
    "writer = csv.writer(f)\n",
    "writer.writerow(fields)\n",
    "\n",
    "# write a row to the csv file\n",
    "\n",
    "for i in range(1050,1071):\n",
    "   \n",
    "    date=generate_random_date()\n",
    "    time=generate_time()\n",
    "    writer.writerow([i,date,time])\n",
    "\n",
    "\n",
    "\n",
    "# close the file\n",
    "f.close()\n",
    "\n",
    "\n"
   ]
  }
 ],
 "metadata": {
  "kernelspec": {
   "display_name": "Python 3",
   "language": "python",
   "name": "python3"
  },
  "language_info": {
   "codemirror_mode": {
    "name": "ipython",
    "version": 3
   },
   "file_extension": ".py",
   "mimetype": "text/x-python",
   "name": "python",
   "nbconvert_exporter": "python",
   "pygments_lexer": "ipython3",
   "version": "3.11.4"
  },
  "orig_nbformat": 4
 },
 "nbformat": 4,
 "nbformat_minor": 2
}
